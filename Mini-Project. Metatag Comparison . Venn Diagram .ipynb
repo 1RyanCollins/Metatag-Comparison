{
 "cells": [
  {
   "cell_type": "code",
   "execution_count": 7,
   "id": "f39213af",
   "metadata": {},
   "outputs": [],
   "source": [
    "#upload libraries \n",
    "from matplotlib import pyplot as plt\n",
    "import numpy as np\n",
    "from matplotlib_venn import venn3, venn3_circles\n",
    "import requests\n",
    "from bs4 import BeautifulSoup\n",
    "#Beautiful Soup is a Python package for parsing HTML and XML documents.#\n"
   ]
  },
  {
   "cell_type": "markdown",
   "id": "213fe18c",
   "metadata": {},
   "source": [
    "What is a metatag?\n",
    "\n",
    "Meta tags are snippets of text that describe a page's content; the meta tags don't appear on the page itself, but only in the page's source code"
   ]
  },
  {
   "cell_type": "code",
   "execution_count": 15,
   "id": "788b006d",
   "metadata": {},
   "outputs": [
    {
     "name": "stdout",
     "output_type": "stream",
     "text": [
      "CONTENT : news, breaking news, latest news, current news, world news, national news\n"
     ]
    }
   ],
   "source": [
    "#First Website \n",
    "\n",
    "#scrape first website\n",
    "r = requests.get('http://www.foxnews.com/')\n",
    "soup = BeautifulSoup(r.content, features=\"lxml\")\n",
    "\n",
    "#search for all meta strings\n",
    "meta = soup.find_all('meta')\n",
    "\n",
    "metatags = []\n",
    "\n",
    "#grab all metatags\n",
    "for tag in meta:\n",
    "    if 'name' in tag.attrs.keys() and tag.attrs['name'].strip().lower() in ['keywords']:\n",
    "        print ('CONTENT :',tag.attrs['content'])\n",
    "        metatags.append(tag.attrs['content'])\n",
    "        \n",
    "#split by comma \n",
    "metatags = [item for items in metatags for item in items.split(\",\")]\n",
    "\n",
    "#store as set\n",
    "metatags = set(metatags)"
   ]
  },
  {
   "cell_type": "code",
   "execution_count": 16,
   "id": "9f13bb01",
   "metadata": {},
   "outputs": [
    {
     "name": "stdout",
     "output_type": "stream",
     "text": [
      "CONTENT : cnn news, daily news, breaking news, news today, current events\n"
     ]
    }
   ],
   "source": [
    "#2nd Website\n",
    "r1 = requests.get('http://www.cnn.com/')\n",
    "soup1 = BeautifulSoup(r1.content, features=\"lxml\")\n",
    "\n",
    "meta1 = soup1.find_all('meta')\n",
    "\n",
    "metatags1 = []\n",
    "\n",
    "for tag in meta1:\n",
    "    if 'name' in tag.attrs.keys() and tag.attrs['name'].strip().lower() in ['keywords']:\n",
    "        print ('CONTENT :',tag.attrs['content'])\n",
    "        metatags1.append(tag.attrs['content'])\n",
    "metatags1 = [item for items in metatags1 for item in items.split(\",\")]\n",
    "metatags1 = set(metatags1)\n"
   ]
  },
  {
   "cell_type": "code",
   "execution_count": 17,
   "id": "3db37f7d",
   "metadata": {},
   "outputs": [
    {
     "name": "stdout",
     "output_type": "stream",
     "text": [
      "CONTENT : ABC News, breaking news, headline news, latest news, top news, online news, video news, world news, national news, abc news, abcnews, abc news online,breaking news, latest news, top news, news video, abc news\n"
     ]
    }
   ],
   "source": [
    "#3rd Website \n",
    "r2 = requests.get('http://www.abcnews.com/')\n",
    "soup2 = BeautifulSoup(r2.content, features=\"lxml\")\n",
    "\n",
    "meta2 = soup2.find_all('meta')\n",
    "\n",
    "metatags2 = []\n",
    "\n",
    "for tag in meta2:\n",
    "    if 'name' in tag.attrs.keys() and tag.attrs['name'].strip().lower() in ['keywords']:\n",
    "        print ('CONTENT :',tag.attrs['content'])\n",
    "        metatags2.append(tag.attrs['content'])\n",
    "metatags2 = [item for items in metatags2 for item in items.split(\",\")]\n",
    "metatags2 = set(metatags2)"
   ]
  },
  {
   "cell_type": "code",
   "execution_count": 20,
   "id": "df134c2b",
   "metadata": {},
   "outputs": [
    {
     "data": {
      "image/png": "[encoded data removed]",
      "text/plain": [
       "<Figure size 432x288 with 1 Axes>"
      ]
     },
     "metadata": {},
     "output_type": "display_data"
    }
   ],
   "source": [
    "#create a diagram \n",
    "venn3([metatags, metatags1, metatags2], ('Fox News', 'CNN', 'Abc News'))\n",
    "plt.show()"
   ]
  },
  {
   "cell_type": "code",
   "execution_count": 32,
   "id": "b83540fe",
   "metadata": {},
   "outputs": [
    {
     "name": "stdout",
     "output_type": "stream",
     "text": [
      "The most common metatag is {' breaking news'}\n"
     ]
    }
   ],
   "source": [
    "print(\"The most common metatag is\" + \" \" + str(metatags.intersection(metatags1, metatags2) ))"
   ]
  },
  {
   "cell_type": "code",
   "execution_count": null,
   "id": "26cb9f8a",
   "metadata": {},
   "outputs": [],
   "source": []
  },
  {
   "cell_type": "code",
   "execution_count": null,
   "id": "156e6c8b",
   "metadata": {},
   "outputs": [],
   "source": []
  }
 ],
 "metadata": {
  "kernelspec": {
   "display_name": "Python 3",
   "language": "python",
   "name": "python3"
  },
  "language_info": {
   "codemirror_mode": {
    "name": "ipython",
    "version": 3
   },
   "file_extension": ".py",
   "mimetype": "text/x-python",
   "name": "python",
   "nbconvert_exporter": "python",
   "pygments_lexer": "ipython3",
   "version": "3.9.2"
  }
 },
 "nbformat": 4,
 "nbformat_minor": 5
}
